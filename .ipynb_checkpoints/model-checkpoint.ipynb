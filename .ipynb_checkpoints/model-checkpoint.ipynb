{
 "cells": [
  {
   "cell_type": "code",
   "execution_count": 1,
   "metadata": {},
   "outputs": [],
   "source": [
    "import numpy as np\n",
    "import pandas as pd\n",
    "import matplotlib.pyplot as plt\n",
    "from IPython.display import display, HTML"
   ]
  },
  {
   "cell_type": "code",
   "execution_count": 2,
   "metadata": {},
   "outputs": [],
   "source": [
    "# separate 70 training, 30 validation\n",
    "data = pd.read_csv('data/master.csv', sep=',', header=None)\n",
    "data_np = data.values\n",
    "\n",
    "for i in range(5):\n",
    "    np.random.shuffle(data_np)\n",
    "\n",
    "ratio=int(data_np.shape[0]*0.7)\n",
    "\n",
    "# train\n",
    "train_data = data_np[0:ratio]\n",
    "df_train = pd.DataFrame(train_data)\n",
    "df_train.to_csv('data/train.csv',sep=',')\n",
    "\n",
    "# test\n",
    "test_data = data_np[ratio:]\n",
    "df_test = pd.DataFrame(test_data)\n",
    "df_test.to_csv('data/test.csv',sep=',')"
   ]
  }
 ],
 "metadata": {
  "kernelspec": {
   "display_name": "Python 3",
   "language": "python",
   "name": "python3"
  },
  "language_info": {
   "codemirror_mode": {
    "name": "ipython",
    "version": 3
   },
   "file_extension": ".py",
   "mimetype": "text/x-python",
   "name": "python",
   "nbconvert_exporter": "python",
   "pygments_lexer": "ipython3",
   "version": "3.7.3"
  }
 },
 "nbformat": 4,
 "nbformat_minor": 2
}
